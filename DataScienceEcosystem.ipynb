{
 "cells": [
  {
   "cell_type": "markdown",
   "id": "85a74be2-b8e7-410b-adfc-65fc52b0f11b",
   "metadata": {},
   "source": [
    "# Data Science Tools and Ecosystem"
   ]
  },
  {
   "cell_type": "markdown",
   "id": "5507533e-25e8-4b50-a854-f41d63dd48d8",
   "metadata": {},
   "source": [
    "# In this notebook, Data Science Tools and Ecosystem are summarized."
   ]
  },
  {
   "cell_type": "markdown",
   "id": "a85f3f4e-5c62-43de-a703-156302465d32",
   "metadata": {},
   "source": [
    "## Some of the popular languages that Data Scientists use are:\n",
    "1. Python.\n",
    "2. SQL.\n",
    "3. R.\n"
   ]
  },
  {
   "cell_type": "markdown",
   "id": "93331763-3c6d-4fc5-952a-8ae104cf1706",
   "metadata": {},
   "source": [
    "**Objectives:**\n",
    "Three popular languages for Data Science\n",
    "* Java.\n",
    "* Scala.\n",
    "* JavaScript."
   ]
  },
  {
   "cell_type": "markdown",
   "id": "b360d743-880f-4ee7-8df1-398e0d0344a6",
   "metadata": {},
   "source": [
    "|Data Science Tools|\n",
    "|------------------|\n",
    "|1. Pytorch        |\n",
    "|2. MLFlow         |\n",
    "|3. Hugging Face   |"
   ]
  },
  {
   "cell_type": "markdown",
   "id": "9778fe08-ab4f-4949-acb3-9cca209094c7",
   "metadata": {},
   "source": [
    "### Below are a few examples of evaluating arithmetic expressions in Python"
   ]
  },
  {
   "cell_type": "code",
   "execution_count": 6,
   "id": "c944aa3b-23dc-4a3f-a249-b5f50017058d",
   "metadata": {
    "tags": []
   },
   "outputs": [
    {
     "data": {
      "text/plain": [
       "17"
      ]
     },
     "execution_count": 6,
     "metadata": {},
     "output_type": "execute_result"
    }
   ],
   "source": [
    "# This a simple arithmetic expression to mutiply then add integers\n",
    "(3*4)+5"
   ]
  },
  {
   "cell_type": "code",
   "execution_count": 11,
   "id": "22194e60-7dad-45c1-a91a-e6982504a135",
   "metadata": {
    "tags": []
   },
   "outputs": [
    {
     "data": {
      "text/plain": [
       "3.3333333333333335"
      ]
     },
     "execution_count": 11,
     "metadata": {},
     "output_type": "execute_result"
    }
   ],
   "source": [
    "# This will convert 200 minutes to hours by diving by 60\n",
    "200/60"
   ]
  },
  {
   "cell_type": "markdown",
   "id": "521b81b0-93ac-490c-9699-0b49a92d38bb",
   "metadata": {},
   "source": [
    "## Author \n",
    "Aaron Williams "
   ]
  },
  {
   "cell_type": "code",
   "execution_count": null,
   "id": "c1913d38-e0bc-473f-af07-c6a453f5cdca",
   "metadata": {},
   "outputs": [],
   "source": []
  }
 ],
 "metadata": {
  "kernelspec": {
   "display_name": "Python",
   "language": "python",
   "name": "conda-env-python-py"
  },
  "language_info": {
   "codemirror_mode": {
    "name": "ipython",
    "version": 3
   },
   "file_extension": ".py",
   "mimetype": "text/x-python",
   "name": "python",
   "nbconvert_exporter": "python",
   "pygments_lexer": "ipython3",
   "version": "3.7.12"
  }
 },
 "nbformat": 4,
 "nbformat_minor": 5
}
